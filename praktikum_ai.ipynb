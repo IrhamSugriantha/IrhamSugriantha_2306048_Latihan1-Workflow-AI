{
  "nbformat": 4,
  "nbformat_minor": 0,
  "metadata": {
    "colab": {
      "provenance": []
    },
    "kernelspec": {
      "name": "python3",
      "display_name": "Python 3"
    },
    "language_info": {
      "name": "python"
    }
  },
  "cells": [
    {
      "cell_type": "code",
      "execution_count": 11,
      "metadata": {
        "colab": {
          "base_uri": "https://localhost:8080/"
        },
        "id": "Bg05ZY8lH7fz",
        "outputId": "8feb4a94-4883-49dd-8ebe-ab8273ea6a36"
      },
      "outputs": [
        {
          "output_type": "stream",
          "name": "stdout",
          "text": [
            "File CSV berhasil dibuat dan disimpan sebagai 'data_penjualan_latihan.csv'!\n"
          ]
        }
      ],
      "source": [
        "import pandas as pd\n",
        "\n",
        "# Buat data penjualan toko\n",
        "data = {\n",
        "    \"Tanggal\": [\n",
        "        \"2025-02-01\", \"2025-02-02\", \"2025-02-03\", \"2025-02-04\", \"2025-02-05\",\n",
        "        \"2025-02-06\", \"2025-02-07\", \"2025-02-08\", \"2025-02-09\", \"2025-02-10\",\n",
        "        \"2025-02-11\", \"2025-02-12\", \"2025-02-13\", \"2025-02-14\", \"2025-02-15\",\n",
        "        \"2025-02-16\", \"2025-02-17\", \"2025-02-18\", \"2025-02-19\", \"2025-02-20\",\n",
        "        \"2025-02-21\", \"2025-02-22\", \"2025-02-23\", \"2025-02-24\", \"2025-02-25\",\n",
        "        \"2025-02-26\", \"2025-02-27\", \"2025-02-28\", \"2025-02-28\", \"2025-03-01\"\n",
        "    ],\n",
        "    \"Produk\": [\n",
        "        \"Pensil\", \"Pulpen\", \"Buku Tulis\", \"Penghapus\", \"Tipe-X\", \"Spidol\", \"Pensil Warna\",\n",
        "        \"Kertas HVS\", \"Penggaris\", \"Stapler\", \"Pensil\", \"Pulpen\", \"Buku Tulis\", \"Penghapus\",\n",
        "        \"Tipe-X\", \"Spidol\", \"Pensil Warna\", \"Kertas HVS\", \"Penggaris\", \"Stapler\", \"Pensil\",\n",
        "        \"Pulpen\", \"Buku Tulis\", \"Penghapus\", \"Tipe-X\", \"Spidol\", \"Pensil Warna\", \"Kertas HVS\",\n",
        "        \"Penggaris\", \"Stapler\"\n",
        "    ],\n",
        "    \"Jumlah Terjual\": [\n",
        "        10, 12, 15, 8, 7, 14, 6, 9, 11, 13, 9, 14, 13, 10, 6, 12, 7, 8, 15, 10,\n",
        "        11, 12, 9, 8, 14, 13, 6, 7, 15, 12\n",
        "    ],\n",
        "    \"Stok\": [\n",
        "        20, 18, 25, 22, 19, 21, 17, 23, 16, 15, 20, 18, 25, 22, 19, 21, 17, 23, 16, 15,\n",
        "        20, 18, 25, 22, 19, 21, 17, 23, 16, 15\n",
        "    ],\n",
        "    \"Harga Satuan\": [\n",
        "        3000, 5000, 12000, 2000, 7000, 8000, 15000, 25000, 5000, 20000, 3000, 5000, 12000,\n",
        "        2000, 7000, 8000, 15000, 25000, 5000, 20000, 3000, 5000, 12000, 2000, 7000, 8000,\n",
        "        15000, 25000, 5000, 20000\n",
        "    ]\n",
        "}\n",
        "\n",
        "\n",
        "# Simpan dalam DataFrame\n",
        "df = pd.DataFrame(data)\n",
        "\n",
        "# Simpan sebagai file CSV\n",
        "df.to_csv(\"data_penjualan_alattulis.csv\", index=False)\n",
        "\n",
        "print(\"File CSV berhasil dibuat dan disimpan sebagai 'data_penjualan_latihan.csv'!\")"
      ]
    },
    {
      "cell_type": "code",
      "source": [
        "# Membaca file csv\n",
        "df = pd.read_csv(\"data_penjualan_alattulis.csv\")\n",
        "\n",
        "# Menampilkan seluruh data penjualan\n",
        "print(df.head(50))"
      ],
      "metadata": {
        "colab": {
          "base_uri": "https://localhost:8080/"
        },
        "id": "mYJYaggTI-Lu",
        "outputId": "86127251-e3ca-49e6-df28-7caec03d508f"
      },
      "execution_count": 12,
      "outputs": [
        {
          "output_type": "stream",
          "name": "stdout",
          "text": [
            "       Tanggal        Produk  Jumlah Terjual  Stok  Harga Satuan\n",
            "0   2025-02-01        Pensil              10    20          3000\n",
            "1   2025-02-02        Pulpen              12    18          5000\n",
            "2   2025-02-03    Buku Tulis              15    25         12000\n",
            "3   2025-02-04     Penghapus               8    22          2000\n",
            "4   2025-02-05        Tipe-X               7    19          7000\n",
            "5   2025-02-06        Spidol              14    21          8000\n",
            "6   2025-02-07  Pensil Warna               6    17         15000\n",
            "7   2025-02-08    Kertas HVS               9    23         25000\n",
            "8   2025-02-09     Penggaris              11    16          5000\n",
            "9   2025-02-10       Stapler              13    15         20000\n",
            "10  2025-02-11        Pensil               9    20          3000\n",
            "11  2025-02-12        Pulpen              14    18          5000\n",
            "12  2025-02-13    Buku Tulis              13    25         12000\n",
            "13  2025-02-14     Penghapus              10    22          2000\n",
            "14  2025-02-15        Tipe-X               6    19          7000\n",
            "15  2025-02-16        Spidol              12    21          8000\n",
            "16  2025-02-17  Pensil Warna               7    17         15000\n",
            "17  2025-02-18    Kertas HVS               8    23         25000\n",
            "18  2025-02-19     Penggaris              15    16          5000\n",
            "19  2025-02-20       Stapler              10    15         20000\n",
            "20  2025-02-21        Pensil              11    20          3000\n",
            "21  2025-02-22        Pulpen              12    18          5000\n",
            "22  2025-02-23    Buku Tulis               9    25         12000\n",
            "23  2025-02-24     Penghapus               8    22          2000\n",
            "24  2025-02-25        Tipe-X              14    19          7000\n",
            "25  2025-02-26        Spidol              13    21          8000\n",
            "26  2025-02-27  Pensil Warna               6    17         15000\n",
            "27  2025-02-28    Kertas HVS               7    23         25000\n",
            "28  2025-02-28     Penggaris              15    16          5000\n",
            "29  2025-03-01       Stapler              12    15         20000\n"
          ]
        }
      ]
    },
    {
      "cell_type": "code",
      "source": [
        "# Cek apakah ada data kosong\n",
        "print(df.isnull().sum())\n",
        "\n",
        "# Konversi kolom \"Tanggal\" ke format datetime\n",
        "df[\"Tanggal\"] = pd.to_datetime(df[\"Tanggal\"])\n",
        "\n",
        "# Tambahkan kolom \"total penjualan\"\n",
        "df[\"Total Penjualan\"] = df[\"Jumlah Terjual\"] * df[\"Harga Satuan\"]\n",
        "\n",
        "# Tambahkan kolom \"keuntungan\" (asumsi modal 10.000 per produk)\n",
        "df[\"Keuntungan\"] = df[\"Total Penjualan\"] - (df[\"Jumlah Terjual\"] * 10000)\n",
        "\n",
        "# Mengatur tampilan agar tidak terpotong ke bawah\n",
        "pd.set_option('display.expand_frame_repr', False)\n",
        "\n",
        "# Menampilkan hasil transformasi\n",
        "print(df.head(30))"
      ],
      "metadata": {
        "colab": {
          "base_uri": "https://localhost:8080/"
        },
        "id": "t5HSkqIvJQy3",
        "outputId": "1f3538ac-b4b6-4030-e210-c12521db9d5e"
      },
      "execution_count": 13,
      "outputs": [
        {
          "output_type": "stream",
          "name": "stdout",
          "text": [
            "Tanggal           0\n",
            "Produk            0\n",
            "Jumlah Terjual    0\n",
            "Stok              0\n",
            "Harga Satuan      0\n",
            "dtype: int64\n",
            "      Tanggal        Produk  Jumlah Terjual  Stok  Harga Satuan  Total Penjualan  Keuntungan\n",
            "0  2025-02-01        Pensil              10    20          3000            30000      -70000\n",
            "1  2025-02-02        Pulpen              12    18          5000            60000      -60000\n",
            "2  2025-02-03    Buku Tulis              15    25         12000           180000       30000\n",
            "3  2025-02-04     Penghapus               8    22          2000            16000      -64000\n",
            "4  2025-02-05        Tipe-X               7    19          7000            49000      -21000\n",
            "5  2025-02-06        Spidol              14    21          8000           112000      -28000\n",
            "6  2025-02-07  Pensil Warna               6    17         15000            90000       30000\n",
            "7  2025-02-08    Kertas HVS               9    23         25000           225000      135000\n",
            "8  2025-02-09     Penggaris              11    16          5000            55000      -55000\n",
            "9  2025-02-10       Stapler              13    15         20000           260000      130000\n",
            "10 2025-02-11        Pensil               9    20          3000            27000      -63000\n",
            "11 2025-02-12        Pulpen              14    18          5000            70000      -70000\n",
            "12 2025-02-13    Buku Tulis              13    25         12000           156000       26000\n",
            "13 2025-02-14     Penghapus              10    22          2000            20000      -80000\n",
            "14 2025-02-15        Tipe-X               6    19          7000            42000      -18000\n",
            "15 2025-02-16        Spidol              12    21          8000            96000      -24000\n",
            "16 2025-02-17  Pensil Warna               7    17         15000           105000       35000\n",
            "17 2025-02-18    Kertas HVS               8    23         25000           200000      120000\n",
            "18 2025-02-19     Penggaris              15    16          5000            75000      -75000\n",
            "19 2025-02-20       Stapler              10    15         20000           200000      100000\n",
            "20 2025-02-21        Pensil              11    20          3000            33000      -77000\n",
            "21 2025-02-22        Pulpen              12    18          5000            60000      -60000\n",
            "22 2025-02-23    Buku Tulis               9    25         12000           108000       18000\n",
            "23 2025-02-24     Penghapus               8    22          2000            16000      -64000\n",
            "24 2025-02-25        Tipe-X              14    19          7000            98000      -42000\n",
            "25 2025-02-26        Spidol              13    21          8000           104000      -26000\n",
            "26 2025-02-27  Pensil Warna               6    17         15000            90000       30000\n",
            "27 2025-02-28    Kertas HVS               7    23         25000           175000      105000\n",
            "28 2025-02-28     Penggaris              15    16          5000            75000      -75000\n",
            "29 2025-03-01       Stapler              12    15         20000           240000      120000\n"
          ]
        }
      ]
    },
    {
      "cell_type": "code",
      "source": [
        "!pip install scikit-learn"
      ],
      "metadata": {
        "colab": {
          "base_uri": "https://localhost:8080/"
        },
        "id": "DlfEYfd4JZlQ",
        "outputId": "96078bd7-95ef-4468-9f44-000776f48b48"
      },
      "execution_count": 8,
      "outputs": [
        {
          "output_type": "stream",
          "name": "stdout",
          "text": [
            "Requirement already satisfied: scikit-learn in /usr/local/lib/python3.11/dist-packages (1.6.1)\n",
            "Requirement already satisfied: numpy>=1.19.5 in /usr/local/lib/python3.11/dist-packages (from scikit-learn) (1.26.4)\n",
            "Requirement already satisfied: scipy>=1.6.0 in /usr/local/lib/python3.11/dist-packages (from scikit-learn) (1.13.1)\n",
            "Requirement already satisfied: joblib>=1.2.0 in /usr/local/lib/python3.11/dist-packages (from scikit-learn) (1.4.2)\n",
            "Requirement already satisfied: threadpoolctl>=3.1.0 in /usr/local/lib/python3.11/dist-packages (from scikit-learn) (3.5.0)\n"
          ]
        }
      ]
    },
    {
      "cell_type": "code",
      "source": [
        "from sklearn.model_selection import train_test_split\n",
        "from sklearn.tree import DecisionTreeClassifier\n",
        "from sklearn.metrics import accuracy_score\n",
        "\n",
        "# Pilih fitur (X) dan target (y)\n",
        "X = df[[\"Jumlah Terjual\", \"Stok\"]]\n",
        "y = (df[\"Stok\"] < 5).astype(int)\n",
        "\n",
        "# Split data menjadi train dan test\n",
        "X_train, X_test, y_train, y_test = train_test_split(X, y, test_size=0.2, random_state=42)\n",
        "\n",
        "# Buat model Decision Tree\n",
        "model = DecisionTreeClassifier()\n",
        "model.fit(X_train, y_train)\n",
        "\n",
        "# Evaluasi model\n",
        "y_pred = model.predict(X_test)\n",
        "print(\"Akurasi Model: \", accuracy_score (y_test, y_pred))"
      ],
      "metadata": {
        "colab": {
          "base_uri": "https://localhost:8080/"
        },
        "id": "V8y_5cjbKtY8",
        "outputId": "6b407206-666c-412c-fa56-88708501ec47"
      },
      "execution_count": 15,
      "outputs": [
        {
          "output_type": "stream",
          "name": "stdout",
          "text": [
            "Akurasi Model:  1.0\n"
          ]
        }
      ]
    },
    {
      "cell_type": "code",
      "source": [
        "# Contoh produk baru (jumlah terjual 8, stok tersisa 3)\n",
        "produk_baru = [[8, 3]]\n",
        "prediksi = model.predict(produk_baru)\n",
        "\n",
        "if prediksi[0] == 1:\n",
        "    print(\"Produk perlu di-restock!\")\n",
        "else:\n",
        "    print(\"Stok masih cukup.\")"
      ],
      "metadata": {
        "colab": {
          "base_uri": "https://localhost:8080/"
        },
        "id": "EG__773yLp-9",
        "outputId": "6119387e-567f-402a-ea6d-a22ac5436160"
      },
      "execution_count": 18,
      "outputs": [
        {
          "output_type": "stream",
          "name": "stdout",
          "text": [
            "Stok masih cukup.\n"
          ]
        },
        {
          "output_type": "stream",
          "name": "stderr",
          "text": [
            "/usr/local/lib/python3.11/dist-packages/sklearn/utils/validation.py:2739: UserWarning: X does not have valid feature names, but DecisionTreeClassifier was fitted with feature names\n",
            "  warnings.warn(\n"
          ]
        }
      ]
    },
    {
      "cell_type": "code",
      "source": [
        "import matplotlib.pyplot as plt\n",
        "\n",
        "plt.scatter(df[\"Jumlah Terjual\"], df[\"Stok\"], c=df[\"Keuntungan\"], cmap=\"coolwarm\")\n",
        "plt.xlabel(\"Jumlah Terjual\")\n",
        "plt.ylabel(\"Stok\")\n",
        "plt.title(\"Analisis Penjualan dan Stok\")\n",
        "plt.colorbar (label=\"Keuntungan\")\n",
        "plt.show()"
      ],
      "metadata": {
        "colab": {
          "base_uri": "https://localhost:8080/",
          "height": 472
        },
        "id": "ITb2MxOHL6pD",
        "outputId": "91bf8a9b-e81e-41e7-b5c2-cb658544f21b"
      },
      "execution_count": 20,
      "outputs": [
        {
          "output_type": "display_data",
          "data": {
            "text/plain": [
              "<Figure size 640x480 with 2 Axes>"
            ],
            "image/png": "[encoded data removed]"
          },
          "metadata": {}
        }
      ]
    }
  ]
}